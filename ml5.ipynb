{
 "cells": [
  {
   "cell_type": "code",
   "execution_count": 7,
   "metadata": {},
   "outputs": [],
   "source": [
    "import numpy as np\n",
    "import pandas as pd\n",
    "import matplotlib\n",
    "import matplotlib.pyplot as plt\n",
    "from pandas import Series,DataFrame\n",
    "import statsmodels\n",
    "import statsmodels.api as sm\n",
    "import statsmodels.formula.api as smf\n",
    "import scipy.stats\n",
    "import scipy.optimize\n",
    "import scipy.spatial\n",
    "from IPython import display\n",
    "from ipywidgets import interact ,widgets\n",
    "import scipy.stats as stats\n",
    "import math"
   ]
  },
  {
   "cell_type": "code",
   "execution_count": 8,
   "metadata": {},
   "outputs": [],
   "source": [
    "from sklearn.datasets import fetch_20newsgroups_vectorized"
   ]
  },
  {
   "cell_type": "code",
   "execution_count": 9,
   "metadata": {},
   "outputs": [],
   "source": [
    "news=fetch_20newsgroups_vectorized()"
   ]
  },
  {
   "cell_type": "code",
   "execution_count": 10,
   "metadata": {},
   "outputs": [],
   "source": [
    "X=news.data\n",
    "y=news.target"
   ]
  },
  {
   "cell_type": "code",
   "execution_count": 13,
   "metadata": {},
   "outputs": [],
   "source": [
    "from sklearn.model_selection import train_test_split"
   ]
  },
  {
   "cell_type": "code",
   "execution_count": 14,
   "metadata": {},
   "outputs": [],
   "source": [
    "X_train,X_test,y_train,y_test=train_test_split(X,y,test_size=0.30)"
   ]
  },
  {
   "cell_type": "markdown",
   "metadata": {},
   "source": [
    "# LOGISTIC  REGRESSION #"
   ]
  },
  {
   "cell_type": "code",
   "execution_count": 15,
   "metadata": {},
   "outputs": [],
   "source": [
    "from sklearn.linear_model import LogisticRegression\n",
    "lr=LogisticRegression()"
   ]
  },
  {
   "cell_type": "code",
   "execution_count": 16,
   "metadata": {},
   "outputs": [
    {
     "name": "stderr",
     "output_type": "stream",
     "text": [
      "D:\\anaconda\\lib\\site-packages\\sklearn\\linear_model\\logistic.py:433: FutureWarning: Default solver will be changed to 'lbfgs' in 0.22. Specify a solver to silence this warning.\n",
      "  FutureWarning)\n",
      "D:\\anaconda\\lib\\site-packages\\sklearn\\linear_model\\logistic.py:460: FutureWarning: Default multi_class will be changed to 'auto' in 0.22. Specify the multi_class option to silence this warning.\n",
      "  \"this warning.\", FutureWarning)\n"
     ]
    },
    {
     "data": {
      "text/plain": [
       "LogisticRegression(C=1.0, class_weight=None, dual=False, fit_intercept=True,\n",
       "          intercept_scaling=1, max_iter=100, multi_class='warn',\n",
       "          n_jobs=None, penalty='l2', random_state=None, solver='warn',\n",
       "          tol=0.0001, verbose=0, warm_start=False)"
      ]
     },
     "execution_count": 16,
     "metadata": {},
     "output_type": "execute_result"
    }
   ],
   "source": [
    "lr.fit(X_train,y_train)"
   ]
  },
  {
   "cell_type": "code",
   "execution_count": 17,
   "metadata": {},
   "outputs": [
    {
     "data": {
      "text/plain": [
       "0.7782032400589102"
      ]
     },
     "execution_count": 17,
     "metadata": {},
     "output_type": "execute_result"
    }
   ],
   "source": [
    "lr.score(X_test,y_test)"
   ]
  },
  {
   "cell_type": "code",
   "execution_count": 18,
   "metadata": {},
   "outputs": [],
   "source": [
    "y_predicted=lr.predict(X_test)\n",
    "from sklearn.metrics import confusion_matrix"
   ]
  },
  {
   "cell_type": "code",
   "execution_count": 19,
   "metadata": {},
   "outputs": [],
   "source": [
    "cm=confusion_matrix(y_test,y_predicted)"
   ]
  },
  {
   "cell_type": "code",
   "execution_count": 20,
   "metadata": {},
   "outputs": [
    {
     "data": {
      "text/plain": [
       "array([[101,   1,   0,   0,   0,   1,   2,   2,   1,   4,   0,   3,   0,\n",
       "          0,   1,  13,   1,   6,   2,   1],\n",
       "       [  1, 117,   9,   3,   6,   7,   9,   2,   1,   1,   0,   1,   3,\n",
       "          2,   4,   0,   0,   1,   1,   0],\n",
       "       [  0,   8, 122,  11,   4,  10,   4,   4,   1,   0,   0,   1,   5,\n",
       "          0,   0,   0,   0,   1,   1,   0],\n",
       "       [  0,   8,   9, 121,   5,   3,   6,   2,   1,   2,   1,   0,  11,\n",
       "          1,   0,   0,   0,   0,   0,   0],\n",
       "       [  0,   3,   2,  17, 112,   4,   8,   0,   1,   2,   0,   2,   8,\n",
       "          1,   0,   0,   0,   1,   1,   0],\n",
       "       [  1,   9,   5,   3,   1, 153,   2,   0,   1,   3,   1,   2,   3,\n",
       "          2,   0,   1,   0,   1,   0,   0],\n",
       "       [  0,   1,   1,   4,   2,   2, 149,   4,   2,   1,   0,   0,   6,\n",
       "          2,   2,   1,   2,   1,   1,   0],\n",
       "       [  0,   4,   2,   3,   0,   4,   3, 150,  11,   4,   3,   0,   4,\n",
       "          0,   0,   1,   1,   1,   0,   0],\n",
       "       [  0,   1,   1,   1,   3,   2,   7,   3, 148,   2,   0,   0,   2,\n",
       "          0,   0,   2,   2,   1,   0,   0],\n",
       "       [  0,   3,   1,   0,   0,   0,   3,   1,   0, 146,  12,   0,   1,\n",
       "          3,   1,   0,   0,   2,   2,   0],\n",
       "       [  0,   0,   0,   0,   1,   0,   4,   1,   2,  10, 181,   0,   0,\n",
       "          1,   0,   0,   0,   0,   1,   0],\n",
       "       [  1,   4,   0,   0,   0,   3,   0,   0,   2,   2,   0, 146,   1,\n",
       "          2,   0,   0,   3,   0,   0,   0],\n",
       "       [  0,   8,   2,   5,   5,   3,   9,   5,   1,   3,   2,   3, 109,\n",
       "          2,   1,   1,   0,   0,   0,   0],\n",
       "       [  1,   6,   1,   0,   2,   2,   3,   1,   3,   4,   1,   1,   9,\n",
       "        154,   7,   2,   3,   0,   0,   0],\n",
       "       [  1,   5,   1,   0,   0,   2,   1,   0,   2,   4,   2,   0,   4,\n",
       "          1, 155,   0,   2,   1,   0,   0],\n",
       "       [  0,   4,   0,   0,   0,   1,   3,   0,   1,   0,   0,   0,   2,\n",
       "          2,   0, 143,   0,   1,   0,   0],\n",
       "       [  0,   0,   1,   0,   0,   3,   2,   2,   4,   0,   0,   2,   2,\n",
       "          1,   3,   2, 146,   1,   0,   0],\n",
       "       [  3,   1,   0,   0,   0,   0,   0,   2,   2,   1,   0,   0,   1,\n",
       "          1,   0,   5,   3, 159,   2,   0],\n",
       "       [  1,   1,   0,   0,   0,   0,   2,   2,   3,   8,   4,   0,   0,\n",
       "          2,   0,   2,  10,  10,  90,   0],\n",
       "       [ 17,   0,   0,   0,   1,   1,   0,   0,   6,   2,   2,   1,   2,\n",
       "          7,   2,  38,   5,   4,   0,  40]], dtype=int64)"
      ]
     },
     "execution_count": 20,
     "metadata": {},
     "output_type": "execute_result"
    }
   ],
   "source": [
    "cm"
   ]
  },
  {
   "cell_type": "code",
   "execution_count": 21,
   "metadata": {},
   "outputs": [
    {
     "data": {
      "text/plain": [
       "Text(69.0, 0.5, 'truth')"
      ]
     },
     "execution_count": 21,
     "metadata": {},
     "output_type": "execute_result"
    },
    {
     "data": {
      "image/png": "[encoded data removed]",
      "text/plain": [
       "<Figure size 720x504 with 2 Axes>"
      ]
     },
     "metadata": {
      "needs_background": "light"
     },
     "output_type": "display_data"
    }
   ],
   "source": [
    "import seaborn as sn\n",
    "plt.figure(figsize=(10,7))\n",
    "sn.heatmap(cm,annot=True)\n",
    "plt.xlabel(\"predicted\")\n",
    "plt.ylabel(\"truth\")"
   ]
  },
  {
   "cell_type": "code",
   "execution_count": 22,
   "metadata": {},
   "outputs": [
    {
     "name": "stdout",
     "output_type": "stream",
     "text": [
      "[26 67 35 47 30 48 68 31 45 53 28 16 64 30 21 68 32 32 11  1] [38 51 50 49 50 35 32 41 27 29 20 18 50 46 26 14 23 21 45 88] [101 117 122 121 112 153 149 150 148 146 181 146 109 154 155 143 146 159\n",
      "  90  40] [3230 3160 3188 3178 3203 3159 3146 3173 3175 3167 3166 3215 3172 3165\n",
      " 3193 3170 3194 3183 3249 3266]\n"
     ]
    }
   ],
   "source": [
    "FP = cm.sum(axis=0) - np.diag(cm)  \n",
    "FN = cm.sum(axis=1) - np.diag(cm)\n",
    "TP = np.diag(cm)\n",
    "TN = cm.sum() - (FP + FN + TP)\n",
    "\n",
    "# Sensitivity, hit rate, recall, or true positive rate\n",
    "TPR = TP/(TP+FN)\n",
    "# Specificity or true negative rate\n",
    "TNR = TN/(TN+FP) \n",
    "# Precision or positive predictive value\n",
    "PPV = TP/(TP+FP)\n",
    "# Negative predictive value\n",
    "NPV = TN/(TN+FN)\n",
    "# Fall out or false positive rate\n",
    "FPR = FP/(FP+TN)\n",
    "# False negative rate\n",
    "FNR = FN/(TP+FN)\n",
    "# False discovery rate\n",
    "FDR = FP/(TP+FP)\n",
    "\n",
    "# Overall accuracy\n",
    "ACC = (TP+TN)/(TP+FP+FN+TN)\n",
    "print(FP,FN,TP,TN)"
   ]
  },
  {
   "cell_type": "code",
   "execution_count": 23,
   "metadata": {},
   "outputs": [],
   "source": [
    "n=len(FP)"
   ]
  },
  {
   "cell_type": "code",
   "execution_count": 24,
   "metadata": {},
   "outputs": [
    {
     "name": "stdout",
     "output_type": "stream",
     "text": [
      "[127, 184, 157, 168, 142, 201, 217, 181, 193, 199, 209, 162, 173, 184, 176, 211, 178, 191, 101, 41]\n"
     ]
    }
   ],
   "source": [
    "M=[]\n",
    "for i in range(0,n):\n",
    "    M.append(FP[i]+TP[i])\n",
    "print(M)"
   ]
  },
  {
   "cell_type": "code",
   "execution_count": 25,
   "metadata": {},
   "outputs": [],
   "source": [
    "d01=pd.DataFrame(FP,columns=['logisticregfp'])\n",
    "d02=pd.DataFrame(TP,columns=['logisticregtp'])\n",
    "d=pd.DataFrame(M,columns=['logisticreg'])"
   ]
  },
  {
   "cell_type": "markdown",
   "metadata": {},
   "source": [
    "# DECISION  TREE #"
   ]
  },
  {
   "cell_type": "code",
   "execution_count": 26,
   "metadata": {},
   "outputs": [],
   "source": [
    "from sklearn import tree\n",
    "model=tree.DecisionTreeClassifier()"
   ]
  },
  {
   "cell_type": "code",
   "execution_count": 27,
   "metadata": {},
   "outputs": [
    {
     "data": {
      "text/plain": [
       "DecisionTreeClassifier(class_weight=None, criterion='gini', max_depth=None,\n",
       "            max_features=None, max_leaf_nodes=None,\n",
       "            min_impurity_decrease=0.0, min_impurity_split=None,\n",
       "            min_samples_leaf=1, min_samples_split=2,\n",
       "            min_weight_fraction_leaf=0.0, presort=False, random_state=None,\n",
       "            splitter='best')"
      ]
     },
     "execution_count": 27,
     "metadata": {},
     "output_type": "execute_result"
    }
   ],
   "source": [
    "model.fit(X_train,y_train)"
   ]
  },
  {
   "cell_type": "code",
   "execution_count": 28,
   "metadata": {},
   "outputs": [
    {
     "data": {
      "text/plain": [
       "0.6182621502209131"
      ]
     },
     "execution_count": 28,
     "metadata": {},
     "output_type": "execute_result"
    }
   ],
   "source": [
    "model.score(X_test,y_test)"
   ]
  },
  {
   "cell_type": "code",
   "execution_count": 29,
   "metadata": {},
   "outputs": [],
   "source": [
    "y_predicted=model.predict(X_test)"
   ]
  },
  {
   "cell_type": "code",
   "execution_count": 30,
   "metadata": {},
   "outputs": [],
   "source": [
    "cm=confusion_matrix(y_test,y_predicted)"
   ]
  },
  {
   "cell_type": "code",
   "execution_count": 31,
   "metadata": {},
   "outputs": [
    {
     "data": {
      "text/plain": [
       "array([[ 78,   0,   0,   4,   5,   1,   0,   4,   2,   3,   1,   2,   0,\n",
       "          4,   2,  10,   2,   1,   3,  17],\n",
       "       [  1,  84,  14,  13,  12,   6,   3,  11,   2,   3,   3,   1,   5,\n",
       "          2,   2,   0,   2,   0,   1,   3],\n",
       "       [  1,   9, 111,  11,   3,  12,   2,   1,   2,   2,   0,   3,   4,\n",
       "          2,   1,   3,   2,   0,   1,   2],\n",
       "       [  2,  16,  13,  72,   9,   9,   9,   6,   2,   1,   5,   1,   8,\n",
       "          6,   1,   3,   1,   1,   4,   1],\n",
       "       [  1,   8,   1,  15,  88,   6,   6,   3,   3,   1,   3,   3,   9,\n",
       "          1,   2,   5,   3,   0,   4,   0],\n",
       "       [  0,  20,  15,   6,   5, 115,   1,   6,   2,   0,   3,   0,   5,\n",
       "          1,   2,   2,   1,   2,   2,   0],\n",
       "       [  0,   5,   3,   9,   7,   0, 120,   9,   2,   5,   2,   2,   8,\n",
       "          2,   1,   2,   1,   0,   3,   0],\n",
       "       [  1,   1,   5,   6,   5,   3,   7, 107,  14,  13,   2,   2,   5,\n",
       "          6,   4,   4,   1,   0,   2,   3],\n",
       "       [  1,   2,   0,   4,   0,   2,   2,   6, 120,   9,   2,   1,   5,\n",
       "          4,   2,   1,   7,   2,   2,   3],\n",
       "       [  6,   2,   2,   2,   5,   1,   1,   5,   3,  95,  29,   1,   5,\n",
       "          6,   4,   2,   2,   1,   1,   2],\n",
       "       [  1,   3,   1,   6,   0,   1,   2,   3,   0,  22, 152,   0,   3,\n",
       "          1,   0,   2,   1,   0,   2,   1],\n",
       "       [  0,   5,   0,   1,   2,   0,   0,   2,   0,   1,   0, 137,   3,\n",
       "          2,   3,   2,   4,   0,   2,   0],\n",
       "       [  0,   3,   6,  12,   3,   5,   7,  12,   2,   3,   5,   4,  75,\n",
       "          9,   2,   0,   4,   2,   2,   3],\n",
       "       [  3,   3,   1,   7,   3,   5,   5,   4,   2,   7,   5,   2,   7,\n",
       "        118,   7,   5,   3,   3,   5,   5],\n",
       "       [  1,   2,   1,   4,   0,   9,   1,   6,   2,   1,   0,   0,   9,\n",
       "          1, 131,   1,   3,   0,   6,   3],\n",
       "       [  7,   1,   0,   0,   1,   4,   0,   3,   1,   2,   1,   0,   2,\n",
       "          2,   0, 122,   3,   1,   1,   6],\n",
       "       [  2,   0,   0,   1,   0,   1,   5,   6,   2,   1,   3,   1,   6,\n",
       "          1,   2,   4, 119,   2,  13,   0],\n",
       "       [  5,   2,   1,   0,   1,   1,   0,   1,   1,   4,   0,   0,   1,\n",
       "          5,   5,   3,   3, 141,   5,   1],\n",
       "       [  2,   6,   2,   4,   0,   2,   1,   3,   2,   4,   2,   3,   5,\n",
       "          3,   4,   3,  13,   7,  66,   3],\n",
       "       [ 18,   1,   0,   2,   4,   4,   0,   4,   1,   6,   1,   0,   2,\n",
       "          2,   3,  15,   8,   5,   4,  48]], dtype=int64)"
      ]
     },
     "execution_count": 31,
     "metadata": {},
     "output_type": "execute_result"
    }
   ],
   "source": [
    "cm"
   ]
  },
  {
   "cell_type": "code",
   "execution_count": 32,
   "metadata": {},
   "outputs": [
    {
     "data": {
      "text/plain": [
       "Text(69.0, 0.5, 'truth')"
      ]
     },
     "execution_count": 32,
     "metadata": {},
     "output_type": "execute_result"
    },
    {
     "data": {
      "image/png": "[encoded data removed]",
      "text/plain": [
       "<Figure size 720x504 with 2 Axes>"
      ]
     },
     "metadata": {
      "needs_background": "light"
     },
     "output_type": "display_data"
    }
   ],
   "source": [
    "import seaborn as sn\n",
    "plt.figure(figsize=(10,7))\n",
    "sn.heatmap(cm,annot=True)\n",
    "plt.xlabel(\"predicted\")\n",
    "plt.ylabel(\"truth\")"
   ]
  },
  {
   "cell_type": "code",
   "execution_count": 33,
   "metadata": {},
   "outputs": [
    {
     "name": "stdout",
     "output_type": "stream",
     "text": [
      "[ 52  89  65 107  65  72  52  95  45  88  67  26  92  60  47  67  64  27\n",
      "  63  53] [61 84 61 98 74 73 61 84 55 80 49 27 84 82 50 35 50 39 69 80] [ 78  84 111  72  88 115 120 107 120  95 152 137  75 118 131 122 119 141\n",
      "  66  48] [3204 3138 3158 3118 3168 3135 3162 3109 3175 3132 3127 3205 3144 3135\n",
      " 3167 3171 3162 3188 3197 3214]\n"
     ]
    }
   ],
   "source": [
    "FP = cm.sum(axis=0) - np.diag(cm)  \n",
    "FN = cm.sum(axis=1) - np.diag(cm)\n",
    "TP = np.diag(cm)\n",
    "TN = cm.sum() - (FP + FN + TP)\n",
    "\n",
    "# Sensitivity, hit rate, recall, or true positive rate\n",
    "TPR = TP/(TP+FN)\n",
    "# Specificity or true negative rate\n",
    "TNR = TN/(TN+FP) \n",
    "# Precision or positive predictive value\n",
    "PPV = TP/(TP+FP)\n",
    "# Negative predictive value\n",
    "NPV = TN/(TN+FN)\n",
    "# Fall out or false positive rate\n",
    "FPR = FP/(FP+TN)\n",
    "# False negative rate\n",
    "FNR = FN/(TP+FN)\n",
    "# False discovery rate\n",
    "FDR = FP/(TP+FP)\n",
    "\n",
    "# Overall accuracy\n",
    "ACC = (TP+TN)/(TP+FP+FN+TN)\n",
    "print(FP,FN,TP,TN)"
   ]
  },
  {
   "cell_type": "code",
   "execution_count": 34,
   "metadata": {},
   "outputs": [],
   "source": [
    "n=len(FP)"
   ]
  },
  {
   "cell_type": "code",
   "execution_count": 35,
   "metadata": {},
   "outputs": [
    {
     "name": "stdout",
     "output_type": "stream",
     "text": [
      "[130, 173, 176, 179, 153, 187, 172, 202, 165, 183, 219, 163, 167, 178, 178, 189, 183, 168, 129, 101]\n"
     ]
    }
   ],
   "source": [
    "M=[]\n",
    "for i in range(0,n):\n",
    "    M.append(FP[i]+TP[i])\n",
    "print(M)"
   ]
  },
  {
   "cell_type": "code",
   "execution_count": 36,
   "metadata": {},
   "outputs": [],
   "source": [
    "d1=pd.DataFrame(M,columns=['decisiontree'])\n",
    "d11=pd.DataFrame(FP,columns=['decisiontreefp'])\n",
    "d12=pd.DataFrame(TP,columns=['decisiontreetp'])"
   ]
  },
  {
   "cell_type": "markdown",
   "metadata": {},
   "source": [
    "# KNN(7) #"
   ]
  },
  {
   "cell_type": "code",
   "execution_count": 37,
   "metadata": {},
   "outputs": [],
   "source": [
    "from sklearn.neighbors import KNeighborsClassifier"
   ]
  },
  {
   "cell_type": "code",
   "execution_count": 44,
   "metadata": {},
   "outputs": [],
   "source": [
    "knn=KNeighborsClassifier(n_neighbors=5)"
   ]
  },
  {
   "cell_type": "code",
   "execution_count": 45,
   "metadata": {},
   "outputs": [
    {
     "data": {
      "text/plain": [
       "KNeighborsClassifier(algorithm='auto', leaf_size=30, metric='minkowski',\n",
       "           metric_params=None, n_jobs=None, n_neighbors=5, p=2,\n",
       "           weights='uniform')"
      ]
     },
     "execution_count": 45,
     "metadata": {},
     "output_type": "execute_result"
    }
   ],
   "source": [
    "knn.fit(X_train,y_train)"
   ]
  },
  {
   "cell_type": "code",
   "execution_count": 46,
   "metadata": {},
   "outputs": [
    {
     "data": {
      "text/plain": [
       "0.5540500736377025"
      ]
     },
     "execution_count": 46,
     "metadata": {},
     "output_type": "execute_result"
    }
   ],
   "source": [
    "knn.score(X_test,y_test)"
   ]
  },
  {
   "cell_type": "code",
   "execution_count": 47,
   "metadata": {},
   "outputs": [],
   "source": [
    "y_predicted=knn.predict(X_test)"
   ]
  },
  {
   "cell_type": "code",
   "execution_count": 48,
   "metadata": {},
   "outputs": [],
   "source": [
    "cm=confusion_matrix(y_test,y_predicted)"
   ]
  },
  {
   "cell_type": "code",
   "execution_count": 49,
   "metadata": {},
   "outputs": [
    {
     "data": {
      "text/plain": [
       "array([[ 98,   1,   0,   1,   0,   0,   0,   0,   1,   2,   0,   1,   0,\n",
       "          0,   0,  14,   3,   3,  13,   2],\n",
       "       [ 14,  89,   9,   3,   3,  12,   2,   2,   1,   1,   1,   2,   0,\n",
       "          6,   3,   6,   4,   3,   6,   1],\n",
       "       [ 10,  12,  91,  11,   0,  19,   2,   7,   0,   2,   1,   1,   3,\n",
       "          0,   0,   1,   2,   2,   7,   1],\n",
       "       [ 13,  13,  13,  69,   4,  14,   4,   1,   0,   0,   0,   4,   2,\n",
       "          4,   2,  15,   1,   6,   4,   1],\n",
       "       [ 26,   9,   8,  13,  54,   8,   2,   4,   0,   0,   0,   3,   2,\n",
       "          1,   1,  13,   2,   5,  10,   1],\n",
       "       [ 13,   3,   1,   6,   5, 121,   1,   2,   0,   2,   1,  14,   2,\n",
       "          3,   1,   4,   1,   2,   3,   3],\n",
       "       [ 10,  22,   5,   6,   4,   4,  79,   4,   1,   1,   4,   5,   4,\n",
       "          6,   3,   6,   5,   7,   4,   1],\n",
       "       [ 17,   8,   4,   9,   1,   8,   4,  94,   4,   1,   2,   0,   0,\n",
       "          1,   0,   9,   4,   8,  15,   2],\n",
       "       [ 12,   5,   5,   9,   4,   7,   0,   7,  91,   3,   0,   2,   0,\n",
       "          1,   2,   5,   2,   8,   9,   3],\n",
       "       [ 14,   5,   2,   1,   1,   3,   0,   3,   0, 103,   6,   1,   0,\n",
       "          3,   0,  10,   3,   7,  13,   0],\n",
       "       [ 14,   3,   0,   2,   1,   4,   3,   3,   1,  12, 127,   3,   0,\n",
       "          4,   1,   6,   7,   3,   5,   2],\n",
       "       [ 11,   4,   0,   0,   0,   5,   1,   0,   1,   1,   0, 120,   0,\n",
       "          1,   0,   4,   6,   3,   7,   0],\n",
       "       [ 12,   6,   3,   7,   3,  18,   3,   3,   0,   4,   1,   5,  70,\n",
       "          2,   0,   5,   3,   8,   6,   0],\n",
       "       [ 34,   4,   1,   3,   1,   3,   0,   1,   1,   2,   1,   6,   4,\n",
       "        100,   1,  12,   4,   3,  15,   4],\n",
       "       [ 12,   4,   0,   0,   0,   7,   0,   1,   3,   2,   2,   8,   1,\n",
       "          5, 107,   6,   2,  11,   9,   1],\n",
       "       [ 30,   6,   0,   0,   1,   1,   0,   0,   0,   0,   0,   3,   0,\n",
       "          1,   0,  99,   2,   4,   8,   2],\n",
       "       [ 17,   1,   0,   1,   0,   4,   0,   2,   1,   3,   1,   8,   1,\n",
       "          2,   1,   3, 101,  10,  12,   1],\n",
       "       [ 13,   2,   0,   1,   0,   0,   0,   1,   0,   0,   0,   0,   0,\n",
       "          2,   0,   5,   5, 143,   7,   1],\n",
       "       [ 13,   3,   1,   1,   1,   1,   1,   0,   2,   5,   1,   4,   1,\n",
       "          0,   0,  10,   5,   6,  78,   2],\n",
       "       [ 31,   1,   0,   2,   0,   0,   0,   0,   1,   0,   2,   1,   1,\n",
       "          2,   0,  26,   3,   7,   4,  47]], dtype=int64)"
      ]
     },
     "execution_count": 49,
     "metadata": {},
     "output_type": "execute_result"
    }
   ],
   "source": [
    "cm"
   ]
  },
  {
   "cell_type": "code",
   "execution_count": 50,
   "metadata": {},
   "outputs": [
    {
     "data": {
      "text/plain": [
       "Text(69.0, 0.5, 'truth')"
      ]
     },
     "execution_count": 50,
     "metadata": {},
     "output_type": "execute_result"
    },
    {
     "data": {
      "image/png": "[encoded data removed]",
      "text/plain": [
       "<Figure size 720x504 with 2 Axes>"
      ]
     },
     "metadata": {
      "needs_background": "light"
     },
     "output_type": "display_data"
    }
   ],
   "source": [
    "import seaborn as sn\n",
    "plt.figure(figsize=(10,7))\n",
    "sn.heatmap(cm,annot=True)\n",
    "plt.xlabel(\"predicted\")\n",
    "plt.ylabel(\"truth\")"
   ]
  },
  {
   "cell_type": "code",
   "execution_count": 51,
   "metadata": {},
   "outputs": [
    {
     "name": "stdout",
     "output_type": "stream",
     "text": [
      "[316 112  52  76  29 118  23  41  17  41  23  71  21  44  15 160  64 106\n",
      " 157  28] [ 41  79  81 101 108  67 102  97  84  72  74  44  89 100  74  58  68  37\n",
      "  57  81] [ 98  89  91  69  54 121  79  94  91 103 127 120  70 100 107  99 101 143\n",
      "  78  47] [2940 3115 3171 3149 3204 3089 3191 3163 3203 3179 3171 3160 3215 3151\n",
      " 3199 3078 3162 3109 3103 3239]\n"
     ]
    }
   ],
   "source": [
    "FP = cm.sum(axis=0) - np.diag(cm)  \n",
    "FN = cm.sum(axis=1) - np.diag(cm)\n",
    "TP = np.diag(cm)\n",
    "TN = cm.sum() - (FP + FN + TP)\n",
    "\n",
    "# Sensitivity, hit rate, recall, or true positive rate\n",
    "TPR = TP/(TP+FN)\n",
    "# Specificity or true negative rate\n",
    "TNR = TN/(TN+FP) \n",
    "# Precision or positive predictive value\n",
    "PPV = TP/(TP+FP)\n",
    "# Negative predictive value\n",
    "NPV = TN/(TN+FN)\n",
    "# Fall out or false positive rate\n",
    "FPR = FP/(FP+TN)\n",
    "# False negative rate\n",
    "FNR = FN/(TP+FN)\n",
    "# False discovery rate\n",
    "FDR = FP/(TP+FP)\n",
    "\n",
    "# Overall accuracy\n",
    "ACC = (TP+TN)/(TP+FP+FN+TN)\n",
    "print(FP,FN,TP,TN)"
   ]
  },
  {
   "cell_type": "code",
   "execution_count": 52,
   "metadata": {},
   "outputs": [],
   "source": [
    "n=len(FP)"
   ]
  },
  {
   "cell_type": "code",
   "execution_count": 53,
   "metadata": {},
   "outputs": [
    {
     "name": "stdout",
     "output_type": "stream",
     "text": [
      "[414, 201, 143, 145, 83, 239, 102, 135, 108, 144, 150, 191, 91, 144, 122, 259, 165, 249, 235, 75]\n"
     ]
    }
   ],
   "source": [
    "M=[]\n",
    "for i in range(0,n):\n",
    "    M.append(FP[i]+TP[i])\n",
    "print(M)"
   ]
  },
  {
   "cell_type": "code",
   "execution_count": 54,
   "metadata": {},
   "outputs": [],
   "source": [
    "d2=pd.DataFrame(M,columns=['knn'])\n",
    "d21=pd.DataFrame(FP,columns=['knnfp'])\n",
    "d22=pd.DataFrame(TP,columns=['knntp'])"
   ]
  },
  {
   "cell_type": "markdown",
   "metadata": {},
   "source": [
    "# RANDOM FOREST #"
   ]
  },
  {
   "cell_type": "code",
   "execution_count": 55,
   "metadata": {},
   "outputs": [],
   "source": [
    "from sklearn.ensemble import RandomForestClassifier"
   ]
  },
  {
   "cell_type": "code",
   "execution_count": 56,
   "metadata": {},
   "outputs": [],
   "source": [
    "model=RandomForestClassifier(n_estimators=35)"
   ]
  },
  {
   "cell_type": "code",
   "execution_count": 57,
   "metadata": {},
   "outputs": [
    {
     "data": {
      "text/plain": [
       "RandomForestClassifier(bootstrap=True, class_weight=None, criterion='gini',\n",
       "            max_depth=None, max_features='auto', max_leaf_nodes=None,\n",
       "            min_impurity_decrease=0.0, min_impurity_split=None,\n",
       "            min_samples_leaf=1, min_samples_split=2,\n",
       "            min_weight_fraction_leaf=0.0, n_estimators=35, n_jobs=None,\n",
       "            oob_score=False, random_state=None, verbose=0,\n",
       "            warm_start=False)"
      ]
     },
     "execution_count": 57,
     "metadata": {},
     "output_type": "execute_result"
    }
   ],
   "source": [
    "model.fit(X_train,y_train)"
   ]
  },
  {
   "cell_type": "code",
   "execution_count": 58,
   "metadata": {},
   "outputs": [],
   "source": [
    "y_predicted=model.predict(X_test)"
   ]
  },
  {
   "cell_type": "code",
   "execution_count": 59,
   "metadata": {},
   "outputs": [
    {
     "data": {
      "text/plain": [
       "0.7714285714285715"
      ]
     },
     "execution_count": 59,
     "metadata": {},
     "output_type": "execute_result"
    }
   ],
   "source": [
    "model.score(X_test,y_test)"
   ]
  },
  {
   "cell_type": "code",
   "execution_count": 60,
   "metadata": {},
   "outputs": [],
   "source": [
    "cm=confusion_matrix(y_test,y_predicted)"
   ]
  },
  {
   "cell_type": "code",
   "execution_count": 61,
   "metadata": {},
   "outputs": [
    {
     "data": {
      "text/plain": [
       "array([[107,   1,   0,   0,   2,   0,   0,   1,   0,   1,   0,   1,   0,\n",
       "          2,   2,  19,   2,   0,   1,   0],\n",
       "       [  1, 115,  13,   4,   9,   5,   6,   2,   1,   0,   1,   0,   5,\n",
       "          0,   6,   0,   0,   0,   0,   0],\n",
       "       [  1,   9, 142,   8,   0,   2,   2,   2,   0,   1,   0,   1,   4,\n",
       "          0,   0,   0,   0,   0,   0,   0],\n",
       "       [  0,   9,  25,  96,  15,   4,  10,   2,   0,   0,   1,   3,   4,\n",
       "          1,   0,   0,   0,   0,   0,   0],\n",
       "       [  0,   6,   5,  20, 111,   3,   9,   1,   1,   0,   0,   1,   3,\n",
       "          1,   0,   1,   0,   0,   0,   0],\n",
       "       [  0,  16,  16,   7,   2, 143,   0,   0,   1,   0,   0,   1,   2,\n",
       "          0,   0,   0,   0,   0,   0,   0],\n",
       "       [  0,   0,   2,   3,   4,   2, 154,   4,   0,   0,   2,   1,   5,\n",
       "          1,   1,   0,   0,   1,   1,   0],\n",
       "       [  0,   5,   7,   6,   5,   1,   5, 143,   4,   1,   1,   1,   6,\n",
       "          0,   1,   1,   2,   0,   2,   0],\n",
       "       [  2,   2,   0,   1,   2,   1,   6,   3, 151,   0,   1,   0,   5,\n",
       "          0,   1,   0,   0,   0,   0,   0],\n",
       "       [  1,   2,   0,   1,   1,   2,   1,   0,   0, 148,  15,   0,   0,\n",
       "          2,   2,   0,   0,   0,   0,   0],\n",
       "       [  0,   0,   1,   1,   0,   2,   1,   1,   0,   7, 185,   0,   2,\n",
       "          0,   0,   0,   0,   0,   1,   0],\n",
       "       [  0,   4,   2,   1,   0,   1,   0,   1,   0,   0,   0, 150,   2,\n",
       "          0,   0,   0,   1,   0,   2,   0],\n",
       "       [  0,   9,   4,  11,   8,   5,   8,   8,   1,   3,   1,   4,  92,\n",
       "          4,   0,   1,   0,   0,   0,   0],\n",
       "       [  2,   5,   3,   4,   1,   5,   5,   0,   5,   3,   2,   1,  10,\n",
       "        149,   1,   3,   0,   0,   1,   0],\n",
       "       [  0,   7,   0,   1,   0,   2,   3,   1,   0,   2,   0,   0,   6,\n",
       "          1, 155,   2,   0,   0,   0,   1],\n",
       "       [  1,   1,   1,   3,   1,   0,   2,   0,   0,   0,   0,   0,   1,\n",
       "          1,   0, 143,   0,   2,   1,   0],\n",
       "       [  1,   0,   0,   0,   0,   1,   2,   2,   1,   2,   0,   5,   1,\n",
       "          1,   1,   0, 151,   1,   0,   0],\n",
       "       [  1,   1,   0,   0,   3,   0,   0,   2,   0,   6,   1,   2,   0,\n",
       "          0,   1,   1,   1, 161,   0,   0],\n",
       "       [  3,   2,   1,   2,   1,   1,   2,   3,   2,   5,   5,   7,   1,\n",
       "          1,   1,   6,   4,   7,  80,   1],\n",
       "       [ 18,   2,   1,   2,   3,   0,   0,   5,   0,   1,   2,   6,   3,\n",
       "          4,   0,  33,   3,   2,   0,  43]], dtype=int64)"
      ]
     },
     "execution_count": 61,
     "metadata": {},
     "output_type": "execute_result"
    }
   ],
   "source": [
    "cm"
   ]
  },
  {
   "cell_type": "code",
   "execution_count": 62,
   "metadata": {},
   "outputs": [
    {
     "name": "stdout",
     "output_type": "stream",
     "text": [
      "[31 81 81 75 57 37 62 38 16 32 32 34 60 19 17 67 13 13  9  2] [32 53 30 74 51 45 27 48 24 27 16 14 67 51 26 14 18 19 55 85] [107 115 142  96 111 143 154 143 151 148 185 150  92 149 155 143 151 161\n",
      "  80  43] [3225 3146 3142 3150 3176 3170 3152 3166 3204 3188 3162 3197 3176 3176\n",
      " 3197 3171 3213 3202 3251 3265]\n"
     ]
    }
   ],
   "source": [
    "FP = cm.sum(axis=0) - np.diag(cm)  \n",
    "FN = cm.sum(axis=1) - np.diag(cm)\n",
    "TP = np.diag(cm)\n",
    "TN = cm.sum() - (FP + FN + TP)\n",
    "\n",
    "# Sensitivity, hit rate, recall, or true positive rate\n",
    "TPR = TP/(TP+FN)\n",
    "# Specificity or true negative rate\n",
    "TNR = TN/(TN+FP) \n",
    "# Precision or positive predictive value\n",
    "PPV = TP/(TP+FP)\n",
    "# Negative predictive value\n",
    "NPV = TN/(TN+FN)\n",
    "# Fall out or false positive rate\n",
    "FPR = FP/(FP+TN)\n",
    "# False negative rate\n",
    "FNR = FN/(TP+FN)\n",
    "# False discovery rate\n",
    "FDR = FP/(TP+FP)\n",
    "\n",
    "# Overall accuracy\n",
    "ACC = (TP+TN)/(TP+FP+FN+TN)\n",
    "print(FP,FN,TP,TN)"
   ]
  },
  {
   "cell_type": "code",
   "execution_count": 63,
   "metadata": {},
   "outputs": [],
   "source": [
    "n=len(FP)"
   ]
  },
  {
   "cell_type": "code",
   "execution_count": 64,
   "metadata": {},
   "outputs": [
    {
     "name": "stdout",
     "output_type": "stream",
     "text": [
      "[138, 196, 223, 171, 168, 180, 216, 181, 167, 180, 217, 184, 152, 168, 172, 210, 164, 174, 89, 45]\n"
     ]
    }
   ],
   "source": [
    "M=[]\n",
    "for i in range(0,n):\n",
    "    M.append(FP[i]+TP[i])\n",
    "print(M)"
   ]
  },
  {
   "cell_type": "code",
   "execution_count": 65,
   "metadata": {},
   "outputs": [],
   "source": [
    "d3=pd.DataFrame(M,columns=['rf'])\n",
    "d31=pd.DataFrame(FP,columns=['rffp'])\n",
    "d32=pd.DataFrame(TP,columns=['rftp'])"
   ]
  },
  {
   "cell_type": "markdown",
   "metadata": {},
   "source": [
    "# SUPPORT VECTOR  MACHINE #"
   ]
  },
  {
   "cell_type": "code",
   "execution_count": 73,
   "metadata": {},
   "outputs": [],
   "source": [
    "from sklearn.svm import SVC"
   ]
  },
  {
   "cell_type": "code",
   "execution_count": 79,
   "metadata": {},
   "outputs": [
    {
     "data": {
      "text/plain": [
       "SVC(C=1.0, cache_size=200, class_weight=None, coef0=0.0,\n",
       "  decision_function_shape='ovr', degree=3, gamma='auto_deprecated',\n",
       "  kernel='rbf', max_iter=-1, probability=False, random_state=35,\n",
       "  shrinking=True, tol=0.001, verbose=False)"
      ]
     },
     "execution_count": 79,
     "metadata": {},
     "output_type": "execute_result"
    }
   ],
   "source": [
    "model=SVC(random_state=35)\n",
    "model.fit(X_train,y_train)"
   ]
  },
  {
   "cell_type": "code",
   "execution_count": 80,
   "metadata": {},
   "outputs": [],
   "source": [
    "y_predicted=model.predict(X_test)"
   ]
  },
  {
   "cell_type": "code",
   "execution_count": 81,
   "metadata": {},
   "outputs": [
    {
     "data": {
      "text/plain": [
       "0.046244477172312226"
      ]
     },
     "execution_count": 81,
     "metadata": {},
     "output_type": "execute_result"
    }
   ],
   "source": [
    "model.score(X_test,y_test)"
   ]
  },
  {
   "cell_type": "code",
   "execution_count": 82,
   "metadata": {},
   "outputs": [],
   "source": [
    "cm=confusion_matrix(y_test,y_predicted)"
   ]
  },
  {
   "cell_type": "code",
   "execution_count": 83,
   "metadata": {},
   "outputs": [
    {
     "data": {
      "text/plain": [
       "array([[  0,   0,   0,   0,   0,   0,   0,   0,   0,   0,   0,   0,   0,\n",
       "          0,   0, 139,   0,   0,   0,   0],\n",
       "       [  0,   0,   0,   0,   0,   0,   0,   0,   0,   0,   0,   0,   0,\n",
       "          0,   0, 168,   0,   0,   0,   0],\n",
       "       [  0,   0,   0,   0,   0,   0,   0,   0,   0,   0,   0,   0,   0,\n",
       "          0,   0, 172,   0,   0,   0,   0],\n",
       "       [  0,   0,   0,   0,   0,   0,   0,   0,   0,   0,   0,   0,   0,\n",
       "          0,   0, 170,   0,   0,   0,   0],\n",
       "       [  0,   0,   0,   0,   0,   0,   0,   0,   0,   0,   0,   0,   0,\n",
       "          0,   0, 162,   0,   0,   0,   0],\n",
       "       [  0,   0,   0,   0,   0,   0,   0,   0,   0,   0,   0,   0,   0,\n",
       "          0,   0, 188,   0,   0,   0,   0],\n",
       "       [  0,   0,   0,   0,   0,   0,   0,   0,   0,   0,   0,   0,   0,\n",
       "          0,   0, 181,   0,   0,   0,   0],\n",
       "       [  0,   0,   0,   0,   0,   0,   0,   0,   0,   0,   0,   0,   0,\n",
       "          0,   0, 191,   0,   0,   0,   0],\n",
       "       [  0,   0,   0,   0,   0,   0,   0,   0,   0,   0,   0,   0,   0,\n",
       "          0,   0, 175,   0,   0,   0,   0],\n",
       "       [  0,   0,   0,   0,   0,   0,   0,   0,   0,   0,   0,   0,   0,\n",
       "          0,   0, 175,   0,   0,   0,   0],\n",
       "       [  0,   0,   0,   0,   0,   0,   0,   0,   0,   0,   0,   0,   0,\n",
       "          0,   0, 201,   0,   0,   0,   0],\n",
       "       [  0,   0,   0,   0,   0,   0,   0,   0,   0,   0,   0,   0,   0,\n",
       "          0,   0, 164,   0,   0,   0,   0],\n",
       "       [  0,   0,   0,   0,   0,   0,   0,   0,   0,   0,   0,   0,   0,\n",
       "          0,   0, 159,   0,   0,   0,   0],\n",
       "       [  0,   0,   0,   0,   0,   0,   0,   0,   0,   0,   0,   0,   0,\n",
       "          0,   0, 200,   0,   0,   0,   0],\n",
       "       [  0,   0,   0,   0,   0,   0,   0,   0,   0,   0,   0,   0,   0,\n",
       "          0,   0, 181,   0,   0,   0,   0],\n",
       "       [  0,   0,   0,   0,   0,   0,   0,   0,   0,   0,   0,   0,   0,\n",
       "          0,   0, 157,   0,   0,   0,   0],\n",
       "       [  0,   0,   0,   0,   0,   0,   0,   0,   0,   0,   0,   0,   0,\n",
       "          0,   0, 169,   0,   0,   0,   0],\n",
       "       [  0,   0,   0,   0,   0,   0,   0,   0,   0,   0,   0,   0,   0,\n",
       "          0,   0, 180,   0,   0,   0,   0],\n",
       "       [  0,   0,   0,   0,   0,   0,   0,   0,   0,   0,   0,   0,   0,\n",
       "          0,   0, 135,   0,   0,   0,   0],\n",
       "       [  0,   0,   0,   0,   0,   0,   0,   0,   0,   0,   0,   0,   0,\n",
       "          0,   0, 128,   0,   0,   0,   0]], dtype=int64)"
      ]
     },
     "execution_count": 83,
     "metadata": {},
     "output_type": "execute_result"
    }
   ],
   "source": [
    "cm"
   ]
  },
  {
   "cell_type": "code",
   "execution_count": 84,
   "metadata": {},
   "outputs": [
    {
     "name": "stdout",
     "output_type": "stream",
     "text": [
      "[   0    0    0    0    0    0    0    0    0    0    0    0    0    0\n",
      "    0 3238    0    0    0    0] [139 168 172 170 162 188 181 191 175 175 201 164 159 200 181   0 169 180\n",
      " 135 128] [  0   0   0   0   0   0   0   0   0   0   0   0   0   0   0 157   0   0\n",
      "   0   0] [3256 3227 3223 3225 3233 3207 3214 3204 3220 3220 3194 3231 3236 3195\n",
      " 3214    0 3226 3215 3260 3267]\n"
     ]
    },
    {
     "name": "stderr",
     "output_type": "stream",
     "text": [
      "D:\\anaconda\\lib\\site-packages\\ipykernel_launcher.py:11: RuntimeWarning: invalid value encountered in true_divide\n",
      "  # This is added back by InteractiveShellApp.init_path()\n",
      "D:\\anaconda\\lib\\site-packages\\ipykernel_launcher.py:13: RuntimeWarning: invalid value encountered in true_divide\n",
      "  del sys.path[0]\n",
      "D:\\anaconda\\lib\\site-packages\\ipykernel_launcher.py:19: RuntimeWarning: invalid value encountered in true_divide\n"
     ]
    }
   ],
   "source": [
    "FP = cm.sum(axis=0) - np.diag(cm)  \n",
    "FN = cm.sum(axis=1) - np.diag(cm)\n",
    "TP = np.diag(cm)\n",
    "TN = cm.sum() - (FP + FN + TP)\n",
    "\n",
    "# Sensitivity, hit rate, recall, or true positive rate\n",
    "TPR = TP/(TP+FN)\n",
    "# Specificity or true negative rate\n",
    "TNR = TN/(TN+FP) \n",
    "# Precision or positive predictive value\n",
    "PPV = TP/(TP+FP)\n",
    "# Negative predictive value\n",
    "NPV = TN/(TN+FN)\n",
    "# Fall out or false positive rate\n",
    "FPR = FP/(FP+TN)\n",
    "# False negative rate\n",
    "FNR = FN/(TP+FN)\n",
    "# False discovery rate\n",
    "FDR = FP/(TP+FP)\n",
    "\n",
    "# Overall accuracy\n",
    "ACC = (TP+TN)/(TP+FP+FN+TN)\n",
    "print(FP,FN,TP,TN)"
   ]
  },
  {
   "cell_type": "code",
   "execution_count": 85,
   "metadata": {},
   "outputs": [
    {
     "name": "stdout",
     "output_type": "stream",
     "text": [
      "[0, 0, 0, 0, 0, 0, 0, 0, 0, 0, 0, 0, 0, 0, 0, 3395, 0, 0, 0, 0]\n"
     ]
    }
   ],
   "source": [
    "M=[]\n",
    "for i in range(0,n):\n",
    "    M.append(FP[i]+TP[i])\n",
    "print(M)"
   ]
  },
  {
   "cell_type": "code",
   "execution_count": 86,
   "metadata": {},
   "outputs": [],
   "source": [
    "d4=pd.DataFrame(M,columns=['svm'])\n",
    "d41=pd.DataFrame(FP,columns=['svmfp'])\n",
    "d42=pd.DataFrame(TP,columns=['svmtp'])\n"
   ]
  },
  {
   "cell_type": "markdown",
   "metadata": {},
   "source": [
    "# MLP #"
   ]
  },
  {
   "cell_type": "code",
   "execution_count": 87,
   "metadata": {},
   "outputs": [],
   "source": [
    "from sklearn.neural_network import MLPClassifier"
   ]
  },
  {
   "cell_type": "code",
   "execution_count": null,
   "metadata": {},
   "outputs": [],
   "source": [
    "mlp=MLPClassifier(random_state=37)\n",
    "mlp.fit(X_train,y_train)"
   ]
  },
  {
   "cell_type": "code",
   "execution_count": null,
   "metadata": {},
   "outputs": [],
   "source": [
    "mlp.score(X_train,y_train)"
   ]
  },
  {
   "cell_type": "code",
   "execution_count": null,
   "metadata": {},
   "outputs": [],
   "source": [
    "from sklearn.preprocessing import StandardScaler\n",
    "scaler=StandardScaler()\n",
    "X_train_scaled=scaler.fit(X_train).transform(X_train)\n",
    "X_test_scaled=scaler.fit(X_test).transform(X_test)\n",
    "mlp=MLPClassifier(max_iter=1000,random_state=42)\n",
    "mlp.fit(X_train_scaled,y_train)"
   ]
  },
  {
   "cell_type": "code",
   "execution_count": null,
   "metadata": {},
   "outputs": [],
   "source": [
    "mlp.score(X_train_scaled,y_train)"
   ]
  },
  {
   "cell_type": "code",
   "execution_count": null,
   "metadata": {},
   "outputs": [],
   "source": [
    "mlp.score(X_test_scaled,y_test)"
   ]
  },
  {
   "cell_type": "code",
   "execution_count": null,
   "metadata": {},
   "outputs": [],
   "source": [
    "y_predicted=mlp.predict(X_test)"
   ]
  },
  {
   "cell_type": "code",
   "execution_count": null,
   "metadata": {},
   "outputs": [],
   "source": [
    "cm=confusion_matrix(y_test,y_predicted)"
   ]
  },
  {
   "cell_type": "code",
   "execution_count": null,
   "metadata": {},
   "outputs": [],
   "source": [
    "cm"
   ]
  },
  {
   "cell_type": "code",
   "execution_count": null,
   "metadata": {},
   "outputs": [],
   "source": []
  }
 ],
 "metadata": {
  "kernelspec": {
   "display_name": "Python 3",
   "language": "python",
   "name": "python3"
  },
  "language_info": {
   "codemirror_mode": {
    "name": "ipython",
    "version": 3
   },
   "file_extension": ".py",
   "mimetype": "text/x-python",
   "name": "python",
   "nbconvert_exporter": "python",
   "pygments_lexer": "ipython3",
   "version": "3.6.8"
  }
 },
 "nbformat": 4,
 "nbformat_minor": 2
}
